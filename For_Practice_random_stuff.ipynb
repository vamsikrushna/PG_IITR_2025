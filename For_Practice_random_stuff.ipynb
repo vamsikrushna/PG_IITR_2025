{
 "cells": [
  {
   "cell_type": "code",
   "execution_count": 2,
   "metadata": {},
   "outputs": [],
   "source": [
    "import math\n",
    "import random"
   ]
  },
  {
   "cell_type": "code",
   "execution_count": 4,
   "metadata": {},
   "outputs": [
    {
     "data": {
      "text/plain": [
       "0.0035486843089617137"
      ]
     },
     "execution_count": 4,
     "metadata": {},
     "output_type": "execute_result"
    }
   ],
   "source": [
    "random.random()"
   ]
  },
  {
   "cell_type": "code",
   "execution_count": 7,
   "metadata": {},
   "outputs": [
    {
     "data": {
      "text/plain": [
       "7193095849"
      ]
     },
     "execution_count": 7,
     "metadata": {},
     "output_type": "execute_result"
    }
   ],
   "source": [
    "random.randint(1,10000000000)"
   ]
  },
  {
   "cell_type": "code",
   "execution_count": 9,
   "metadata": {},
   "outputs": [],
   "source": [
    "def biased_coin(prob_h):\n",
    "    for i in range(10):\n",
    "        x=round(10*random.random())\n",
    "        if x>1:\n",
    "            print(1)\n",
    "        else:\n",
    "            print(0)"
   ]
  },
  {
   "cell_type": "code",
   "execution_count": 1,
   "metadata": {},
   "outputs": [
    {
     "ename": "NameError",
     "evalue": "name 'biased_coin' is not defined",
     "output_type": "error",
     "traceback": [
      "\u001b[0;31m---------------------------------------------------------------------------\u001b[0m",
      "\u001b[0;31mNameError\u001b[0m                                 Traceback (most recent call last)",
      "\u001b[0;32m<ipython-input-1-3d61d4a88a79>\u001b[0m in \u001b[0;36m<module>\u001b[0;34m\u001b[0m\n\u001b[0;32m----> 1\u001b[0;31m \u001b[0mbiased_coin\u001b[0m\u001b[0;34m(\u001b[0m\u001b[0;36m2\u001b[0m\u001b[0;34m)\u001b[0m\u001b[0;34m\u001b[0m\u001b[0;34m\u001b[0m\u001b[0m\n\u001b[0m",
      "\u001b[0;31mNameError\u001b[0m: name 'biased_coin' is not defined"
     ]
    }
   ],
   "source": [
    "biased_coin(2)"
   ]
  },
  {
   "cell_type": "code",
   "execution_count": 8,
   "metadata": {},
   "outputs": [],
   "source": [
    "import math"
   ]
  },
  {
   "cell_type": "code",
   "execution_count": 9,
   "metadata": {},
   "outputs": [],
   "source": [
    "def compute_huber_distance_2d(p1, p2, delta):\n",
    "    x1, y1 = p1\n",
    "    x2, y2 = p2\n",
    "    print(\"(x1, y1)=\", (x1, y1))\n",
    "    print(\"(x2, y2)=\", (x2, y2))\n",
    "    print(\"delta=\", delta)\n",
    "\n",
    "    # Euclidean distance\n",
    "    distance_2d = math.sqrt((x1 - x2)**2 + (y1 - y2)**2)\n",
    "    print(\"distance_2d=\", distance_2d)\n",
    "\n",
    "    # Huber distance logic\n",
    "    if distance_2d <= delta:\n",
    "        huber_distance = 0.5 * (distance_2d ** 2)\n",
    "    else:\n",
    "        huber_distance = delta * (distance_2d - 0.5 * delta)\n",
    "\n",
    "    print(\"Huber distance=\", huber_distance)\n",
    "    return huber_distance"
   ]
  },
  {
   "cell_type": "code",
   "execution_count": 10,
   "metadata": {},
   "outputs": [
    {
     "name": "stdout",
     "output_type": "stream",
     "text": [
      "Example 1:\n",
      "(x1, y1)= (0, 0)\n",
      "(x2, y2)= (1, 1)\n",
      "delta= 1.5\n",
      "distance_2d= 1.4142135623730951\n",
      "Huber distance= 1.0000000000000002\n",
      "\n",
      "Example 2:\n",
      "(x1, y1)= (0, 0)\n",
      "(x2, y2)= (3, 4)\n",
      "delta= 1.5\n",
      "distance_2d= 5.0\n",
      "Huber distance= 6.375\n",
      "\n",
      "Example 3:\n",
      "(x1, y1)= (2, 3)\n",
      "(x2, y2)= (2, 3)\n",
      "delta= 2\n",
      "distance_2d= 0.0\n",
      "Huber distance= 0.0\n"
     ]
    },
    {
     "data": {
      "text/plain": [
       "0.0"
      ]
     },
     "execution_count": 10,
     "metadata": {},
     "output_type": "execute_result"
    }
   ],
   "source": [
    "print(\"Example 1:\")\n",
    "compute_huber_distance_2d((0, 0), (1, 1), 1.5)\n",
    "\n",
    "print(\"\\nExample 2:\")\n",
    "compute_huber_distance_2d((0, 0), (3, 4), 1.5)\n",
    "\n",
    "print(\"\\nExample 3:\")\n",
    "compute_huber_distance_2d((2, 3), (2, 3), 2)"
   ]
  }
 ],
 "metadata": {
  "kernelspec": {
   "display_name": "Python 3",
   "language": "python",
   "name": "python3"
  },
  "language_info": {
   "codemirror_mode": {
    "name": "ipython",
    "version": 3
   },
   "file_extension": ".py",
   "mimetype": "text/x-python",
   "name": "python",
   "nbconvert_exporter": "python",
   "pygments_lexer": "ipython3",
   "version": "3.6.8"
  },
  "toc": {
   "base_numbering": 1,
   "nav_menu": {},
   "number_sections": true,
   "sideBar": true,
   "skip_h1_title": false,
   "title_cell": "Table of Contents",
   "title_sidebar": "Contents",
   "toc_cell": false,
   "toc_position": {},
   "toc_section_display": true,
   "toc_window_display": false
  }
 },
 "nbformat": 4,
 "nbformat_minor": 2
}
