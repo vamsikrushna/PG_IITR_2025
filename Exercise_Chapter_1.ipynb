{
 "cells": [
  {
   "cell_type": "markdown",
   "metadata": {},
   "source": [
    "# Python Expressions and Functions:\n",
    "## Topic: Calculate Interest\n",
    "Explanation:\n",
    "When someone deposits or borrows money, the amount often grows over time due to interest. There are two common types of interest: Simple Interest and Compound Interest.\n",
    "\n",
    "In this exercise, we'll focus on Simple Interest.\n",
    "\n",
    "Principal (P): The original amount of money deposited or borrowed.\n",
    "Rate of Interest (R): The percentage charged or earned on the principal each year.\n",
    "Time (T): The number of years the money is deposited or borrowed for.\n",
    "The formula to calculate Simple Interest is:\n",
    "\n",
    "Interest = (Principal × Rate × Time) / 100\n",
    "This gives us the amount of money earned or paid as interest after the given time.\n",
    "\n",
    "Problem Statement:\n",
    "Write a function named calculate_interest that takes the following three arguments:\n",
    "\n",
    "principal (amount of money deposited or borrowed),\n",
    "rate (rate of interest per year, as a percentage),\n",
    "time (duration in years),\n",
    "and returns the simple interest calculated using the formula above.\n",
    "\n",
    "Example Usage:  \n",
    "calculate_interest(1000, 5, 2)   # Output: 100.0  \n",
    "calculate_interest(1500, 4.3, 3) # Output: 193.5  \n",
    "calculate_interest(500, 10, 0)   # Output: 0.0  "
   ]
  },
  {
   "cell_type": "code",
   "execution_count": 24,
   "metadata": {},
   "outputs": [],
   "source": [
    "def calculate_interest(principal, rate , time):\n",
    "    return (principal * rate * time) / 100"
   ]
  },
  {
   "cell_type": "code",
   "execution_count": 25,
   "metadata": {},
   "outputs": [
    {
     "data": {
      "text/plain": [
       "100.0"
      ]
     },
     "execution_count": 25,
     "metadata": {},
     "output_type": "execute_result"
    }
   ],
   "source": [
    "calculate_interest(1000, 5, 2)"
   ]
  },
  {
   "cell_type": "code",
   "execution_count": 26,
   "metadata": {},
   "outputs": [
    {
     "data": {
      "text/plain": [
       "193.5"
      ]
     },
     "execution_count": 26,
     "metadata": {},
     "output_type": "execute_result"
    }
   ],
   "source": [
    "calculate_interest(1500, 4.3, 3) "
   ]
  },
  {
   "cell_type": "code",
   "execution_count": 27,
   "metadata": {},
   "outputs": [
    {
     "data": {
      "text/plain": [
       "0.0"
      ]
     },
     "execution_count": 27,
     "metadata": {},
     "output_type": "execute_result"
    }
   ],
   "source": [
    "calculate_interest(500, 10, 0)"
   ]
  },
  {
   "cell_type": "markdown",
   "metadata": {},
   "source": [
    "# Calculate Hypotense\n",
    "## Topic: Calculate Hypotenuse\n",
    "\n",
    "Understanding the Terms (in simple language):\n",
    "When you have a right-angled triangle (a triangle where one of the angles is exactly 90 degrees), the longest side of the triangle is called the hypotenuse. It’s the side that is opposite the right angle.\n",
    "\n",
    "The other two sides (the ones that make the right angle) are usually called the base and the height (or perpendicular).\n",
    "\n",
    "To calculate the length of the hypotenuse, we use something called the Pythagorean Theorem.\n",
    "\n",
    "The formula is:\n",
    "\n",
    "hypotenuse² = base² + height²\n",
    "To find the hypotenuse, we need to take the square root of the sum of the squares of the base and height:\n",
    "\n",
    "hypotenuse = √(base² + height²)\n",
    "🔧 Task:\n",
    "Write a function named calculate_hypotenuse that takes two arguments:\n",
    "\n",
    "base: the length of the base (a number)\n",
    "height: the length of the height/perpendicular side (a number)\n",
    "It should return the length of the hypotenuse (a number).\n",
    "\n",
    "Use the formula:\n",
    "\n",
    "hypotenuse = (base² + height²) ** 0.5"
   ]
  },
  {
   "cell_type": "code",
   "execution_count": 28,
   "metadata": {},
   "outputs": [],
   "source": [
    "def calculate_hypotenuse(base, height):\n",
    "    hypotenuse = (base ** 2 + height ** 2) ** 0.5\n",
    "    return hypotenuse"
   ]
  },
  {
   "cell_type": "code",
   "execution_count": 29,
   "metadata": {},
   "outputs": [
    {
     "data": {
      "text/plain": [
       "5.0"
      ]
     },
     "execution_count": 29,
     "metadata": {},
     "output_type": "execute_result"
    }
   ],
   "source": [
    "calculate_hypotenuse(3, 4)"
   ]
  },
  {
   "cell_type": "code",
   "execution_count": 30,
   "metadata": {},
   "outputs": [
    {
     "data": {
      "text/plain": [
       "13.0"
      ]
     },
     "execution_count": 30,
     "metadata": {},
     "output_type": "execute_result"
    }
   ],
   "source": [
    "calculate_hypotenuse(5, 12)"
   ]
  },
  {
   "cell_type": "code",
   "execution_count": 31,
   "metadata": {},
   "outputs": [
    {
     "data": {
      "text/plain": [
       "0.0"
      ]
     },
     "execution_count": 31,
     "metadata": {},
     "output_type": "execute_result"
    }
   ],
   "source": [
    "calculate_hypotenuse(0, 0)"
   ]
  },
  {
   "cell_type": "markdown",
   "metadata": {},
   "source": [
    "# Find Distance 2D\n",
    "## Topic: Find Distance in 2D\n",
    "\n",
    "🧠 Explanation:\n",
    "In everyday life, when we move from one place to another, we cover a certain distance. In math, especially in geometry, we often want to calculate the distance between two points on a flat surface (called a 2D plane).\n",
    "\n",
    "Each point on this plane can be represented by two numbers:\n",
    "\n",
    "the x-coordinate (horizontal position)\n",
    "the y-coordinate (vertical position)\n",
    "\n",
    "Come up with the formula to calculate the distance between two points (x1,y1)and (x2,y2)based on the Pythagorean Theorem, just like finding the hypotenuse of a right triangle.\n",
    "\n",
    "✍️ Exercise:\n",
    "Write a function find_distance_2d(x1, y1, x2, y2) that returns the distance between the two points. Use the formula mentioned above. You can use the math.sqrt function to calculate the square root.\n",
    "\n",
    "💡 Examples:\n",
    "find_distance_2d(0, 0, 3, 4)     # Output: 5.0\n",
    "find_distance_2d(1, 2, 4, 6)     # Output: 5.0"
   ]
  },
  {
   "cell_type": "code",
   "execution_count": 35,
   "metadata": {},
   "outputs": [],
   "source": [
    "def find_distance_2d(x1, y1, x2, y2):\n",
    "    return ((x2 - x1)**2 + (y2 - y1)**2) ** 0.5"
   ]
  },
  {
   "cell_type": "code",
   "execution_count": 36,
   "metadata": {},
   "outputs": [
    {
     "data": {
      "text/plain": [
       "5.0"
      ]
     },
     "execution_count": 36,
     "metadata": {},
     "output_type": "execute_result"
    }
   ],
   "source": [
    "find_distance_2d(0, 0, 3, 4)"
   ]
  },
  {
   "cell_type": "code",
   "execution_count": 37,
   "metadata": {},
   "outputs": [
    {
     "data": {
      "text/plain": [
       "5.0"
      ]
     },
     "execution_count": 37,
     "metadata": {},
     "output_type": "execute_result"
    }
   ],
   "source": [
    "find_distance_2d(1, 2, 4, 6)"
   ]
  },
  {
   "cell_type": "markdown",
   "metadata": {},
   "source": [
    "# Find Distance 3D\n",
    "## Topic: Find Distance in 3D\n",
    "\n",
    "🧠 Explanation:\n",
    "In everyday life, we often measure the distance between two points—like how far your house is from school. In 3D space, we do the same, but we also consider height or depth in addition to length and width.\n",
    "\n",
    "A point in 3D space is defined using three coordinates:\n",
    "\n",
    "x (horizontal)\n",
    "y (vertical)\n",
    "z (depth)\n",
    "To calculate the distance between two points in 3D, say:\n",
    "\n",
    "Point A: (x1, y1, z1)\n",
    "Point B: (x2, y2, z2)\n",
    "Come up with 3D distance formula using the Pythagorean theorem into three dimensions.\n",
    "\n",
    "🧪 Exercise:\n",
    "Write a function called calculate_distance_3d(x1, y1, z1, x2, y2, z2) that returns the distance between two 3D points.\n",
    "\n",
    "The function should return the result as a float.\n",
    "You can use the built-in math.sqrt() function to calculate the square root.\n",
    "✅ Examples:\n",
    "\n",
    "calculate_distance_3d(0, 0, 0, 1, 1, 1)  # Output: 1.7320508075688772  \n",
    "calculate_distance_3d(2, 3, 5, 2, 3, 5)  # Output: 0.0  \n",
    "calculate_distance_3d(1, 2, 3, 4, 6, 9)  # Output: 7.810249675906654  "
   ]
  },
  {
   "cell_type": "code",
   "execution_count": 16,
   "metadata": {},
   "outputs": [],
   "source": [
    "def calculate_distance_3d(x1, y1, z1, x2, y2, z2):\n",
    "     return ((x2 - x1)**2 + (y2 - y1)**2 + (z2 - z1)**2) ** 0.5"
   ]
  },
  {
   "cell_type": "code",
   "execution_count": 17,
   "metadata": {},
   "outputs": [
    {
     "data": {
      "text/plain": [
       "1.7320508075688772"
      ]
     },
     "execution_count": 17,
     "metadata": {},
     "output_type": "execute_result"
    }
   ],
   "source": [
    "calculate_distance_3d(0, 0, 0, 1, 1, 1)"
   ]
  },
  {
   "cell_type": "code",
   "execution_count": 18,
   "metadata": {},
   "outputs": [
    {
     "data": {
      "text/plain": [
       "0.0"
      ]
     },
     "execution_count": 18,
     "metadata": {},
     "output_type": "execute_result"
    }
   ],
   "source": [
    "calculate_distance_3d(2, 3, 5, 2, 3, 5)"
   ]
  },
  {
   "cell_type": "code",
   "execution_count": 19,
   "metadata": {},
   "outputs": [
    {
     "data": {
      "text/plain": [
       "7.810249675906654"
      ]
     },
     "execution_count": 19,
     "metadata": {},
     "output_type": "execute_result"
    }
   ],
   "source": [
    "calculate_distance_3d(1, 2, 3, 4, 6, 9) "
   ]
  },
  {
   "cell_type": "markdown",
   "metadata": {},
   "source": [
    "# Find Manhattan Distance\n",
    "## Topic: Find Manhattan Distance\n",
    "Explanation:\n",
    "When you want to measure the distance between two points on a grid (like in a city with square blocks), you don’t move diagonally. Instead, you move only horizontally and vertically, like a taxi driving along streets and avenues. This kind of distance is called the Manhattan Distance.\n",
    "\n",
    "The formula to calculate the Manhattan Distance between two points (x1,y1) and (x2,y2) is:\n",
    "\n",
    "Manhattan Distance=|x1−x2|+|y1−y2|\n",
    "Here, |a| means the absolute value of \n",
    "a — in other words, how far the number is from zero.\n",
    "\n",
    "For example:\n",
    "\n",
    "From (2, 3) to (5, 1): |2−5|=3and |3−1|=2, so distance = 3+2=5\n",
    "## Exercise:\n",
    "Write a function manhattan_distance(x1, y1, x2, y2) that takes the coordinates of two points and returns their Manhattan Distance.\n",
    "\n",
    "Example:\n",
    "manhattan_distance(2, 3, 5, 1)  # Output: 5  \n",
    "manhattan_distance(0, 0, 0, 0)  # Output: 0  \n",
    "manhattan_distance(-1, -1, 1, 1)  # Output: 4  \n"
   ]
  },
  {
   "cell_type": "code",
   "execution_count": 17,
   "metadata": {},
   "outputs": [],
   "source": [
    "def manhattan_distance(x1, y1, x2, y2):\n",
    "    return abs(x1 - x2) + abs(y1 - y2)"
   ]
  },
  {
   "cell_type": "code",
   "execution_count": 26,
   "metadata": {},
   "outputs": [],
   "source": [
    "import numpy as np"
   ]
  },
  {
   "cell_type": "code",
   "execution_count": 38,
   "metadata": {},
   "outputs": [
    {
     "data": {
      "text/plain": [
       "5"
      ]
     },
     "execution_count": 38,
     "metadata": {},
     "output_type": "execute_result"
    }
   ],
   "source": [
    "manhattan_distance(2, 3, 5, 1)"
   ]
  },
  {
   "cell_type": "code",
   "execution_count": 29,
   "metadata": {},
   "outputs": [
    {
     "data": {
      "text/plain": [
       "0"
      ]
     },
     "execution_count": 29,
     "metadata": {},
     "output_type": "execute_result"
    }
   ],
   "source": [
    "manhattan_distance(0, 0, 0, 0) "
   ]
  },
  {
   "cell_type": "code",
   "execution_count": 30,
   "metadata": {},
   "outputs": [
    {
     "data": {
      "text/plain": [
       "4"
      ]
     },
     "execution_count": 30,
     "metadata": {},
     "output_type": "execute_result"
    }
   ],
   "source": [
    "manhattan_distance(-1, -1, 1, 1) "
   ]
  },
  {
   "cell_type": "markdown",
   "metadata": {},
   "source": [
    "# Write a function to return value of y given x on a straight line in 2D. It should take three arguments: m, c, x.\n",
    "## Topic: Predict Y on a Straight Line (2D)\n",
    "Simple Explanation:\n",
    "In math, a straight line in 2D is usually written in this form:\n",
    "\n",
    "y = m * x + c\n",
    "Here’s what the terms mean:\n",
    "\n",
    "x is the input (like a point on the horizontal axis).\n",
    "y is the output (like a point on the vertical axis).\n",
    "m is the slope of the line, which tells us how steep the line is.\n",
    "c is the intercept, or where the line crosses the y-axis.\n",
    "For example: If m = 2, c = 3, and x = 4, then:\n",
    "\n",
    "y = 2 * 4 + 3 = 8 + 3 = 11\n",
    "So, the value of y is 11.\n",
    "\n",
    "Exercise:\n",
    "Write a function predict(m, c, x) that returns the value of y based on the formula:\n",
    "\n",
    "y = m * x + c\n",
    "Arguments:\n",
    "m – slope of the line (a number)\n",
    "c – y-intercept of the line (a number)\n",
    "x – the x-coordinate (a number)\n",
    "Return:\n",
    "The value of y calculated from the formula y = m * x + c\n",
    "\n",
    "Example Usage:\n",
    "predict(2, 3, 4)     # Output: 11  \n",
    "predict(-1, 5, 2)    # Output: 3"
   ]
  },
  {
   "cell_type": "code",
   "execution_count": 39,
   "metadata": {},
   "outputs": [],
   "source": [
    "def predict(m, c, x):\n",
    "    return m * x + c"
   ]
  },
  {
   "cell_type": "code",
   "execution_count": 38,
   "metadata": {},
   "outputs": [
    {
     "data": {
      "text/plain": [
       "11"
      ]
     },
     "execution_count": 38,
     "metadata": {},
     "output_type": "execute_result"
    }
   ],
   "source": [
    "predict(2, 3, 4)"
   ]
  },
  {
   "cell_type": "code",
   "execution_count": 40,
   "metadata": {},
   "outputs": [
    {
     "data": {
      "text/plain": [
       "3"
      ]
     },
     "execution_count": 40,
     "metadata": {},
     "output_type": "execute_result"
    }
   ],
   "source": [
    "predict(-1, 5, 2)"
   ]
  },
  {
   "cell_type": "markdown",
   "metadata": {},
   "source": [
    "Given two points, write a function fit() to learn slope and intercept of the line going through them\n",
    "Topic: Learn Line Equation from Two Points\n",
    "Explanation:\n",
    "A straight line in a 2D plane can be described by the equation:\n",
    "\n",
    "y=mx+c\n",
    "\n",
    "Where:\n",
    "\n",
    "m is the slope of the line.\n",
    "c is the intercept — the value of y when x = 0.\n",
    "If you're given two points on the line, say (x1, y1) and (x2, y2), you can calculate the slope m like this:\n",
    "\n",
    "m=y2−y1/x2−x1\n",
    "\n",
    "Once you have the slope, you can use one of the points (say (x1, y1)) to calculate the intercept c using:\n",
    "\n",
    "c=y1−m × x1\n",
    "\n",
    "For example, if your two points are (1, 2) and (3, 6):\n",
    "\n",
    "Slope: (6 - 2)/(3 - 1) = 4/2 = 2\n",
    "Intercept: 2 - (2 × 1) = 0\n",
    "So, the equation of the line is: y = 2x + 0\n",
    "Exercise:\n",
    "Write a function fit(x1, y1, x2, y2) that returns a tuple (m, c) representing the slope and intercept of the line passing through the two points (x1, y1) and (x2, y2).\n",
    "\n",
    "Function Signature:\n",
    "def fit(x1, y1, x2, y2):\n",
    "    # Your code here\n",
    "Example:  \n",
    "fit(1, 2, 3, 6)       # Output: (2.0, 0.0)  \n",
    "fit(0, 5, 2, 9)       # Output: (2.0, 5.0)  \n",
    "💡 Hint: Make sure x1 is not equal to x2, otherwise the slope would be undefined (vertical line). You may handle this case as you see fit."
   ]
  },
  {
   "cell_type": "code",
   "execution_count": 41,
   "metadata": {},
   "outputs": [],
   "source": [
    "def fit(x1, y1, x2, y2):\n",
    "    if  x1 == x2:\n",
    "        return \"ERROR - x1 and x2 are equal\"\n",
    "    slope = (y2 - y1) / (x2 - x1)\n",
    "    intercept = y1 - (slope * x1)\n",
    "    return slope, intercept"
   ]
  },
  {
   "cell_type": "code",
   "execution_count": 42,
   "metadata": {},
   "outputs": [
    {
     "data": {
      "text/plain": [
       "(2.0, 0.0)"
      ]
     },
     "execution_count": 42,
     "metadata": {},
     "output_type": "execute_result"
    }
   ],
   "source": [
    "fit(1, 2, 3, 6)"
   ]
  },
  {
   "cell_type": "code",
   "execution_count": 46,
   "metadata": {},
   "outputs": [
    {
     "data": {
      "text/plain": [
       "(2.0, 5.0)"
      ]
     },
     "execution_count": 46,
     "metadata": {},
     "output_type": "execute_result"
    }
   ],
   "source": [
    "fit(0, 5, 2, 9)"
   ]
  },
  {
   "cell_type": "code",
   "execution_count": 43,
   "metadata": {},
   "outputs": [
    {
     "data": {
      "text/plain": [
       "'ERROR - x1 and x2 are equal'"
      ]
     },
     "execution_count": 43,
     "metadata": {},
     "output_type": "execute_result"
    }
   ],
   "source": [
    "fit(1, 2, 1, 6)"
   ]
  },
  {
   "cell_type": "markdown",
   "metadata": {},
   "source": [
    "find first derivate of a function that takes only one argument.\n",
    "Topic: Find First Derivative of a Function\n",
    "Simple Explanation:\n",
    "In mathematics, the derivative of a function tells us how fast the function's value is changing at a particular point.\n",
    "\n",
    "Think of it like this: if you’re driving a car and your distance changes every second, then your speed is the derivative of your distance. Similarly, for any function, the derivative gives the rate of change.\n",
    "\n",
    "We’ll use a simple numerical technique called the difference method:\n",
    "\n",
    "f′(x)≈f(x+h)−f(x)h\n",
    "\n",
    "This is called the forward difference method, where h is a very small number.\n",
    "\n",
    "Exercise:\n",
    "Write a function approx_derivative(func, x, h) that:\n",
    "\n",
    "Takes a function func that accepts a single argument,\n",
    "A value x where we want to find the derivative,\n",
    "And a small number h (like 0.0001),\n",
    "Returns the approximate derivative of func at x.\n",
    "Example Usage:\n",
    "def square(x):\n",
    "    return x * x\n",
    "\n",
    "def cube(x):\n",
    "    return x * x * x\n",
    "\n",
    "print(approx_derivative(square, 3, 0.0001))  # Output: Approx. 6  \n",
    "print(approx_derivative(cube, 2, 0.0001))    # Output: Approx. 12  \n",
    "Note to Learner:\n",
    "Try different values of x and different functions (like math.sin, math.exp, etc.) to see how the derivative changes.\n",
    "\n",
    "Make sure to import any libraries (like math) if needed."
   ]
  },
  {
   "cell_type": "code",
   "execution_count": 44,
   "metadata": {},
   "outputs": [],
   "source": [
    "def square(x):\n",
    "    return x * x\n",
    "\n",
    "def cube(x):\n",
    "    return x * x * x\n",
    "\n",
    "def approx_derivative(f, x, h=1e-5):\n",
    "    return (f(x + h) - f(x)) / h  # forward difference"
   ]
  },
  {
   "cell_type": "code",
   "execution_count": 45,
   "metadata": {},
   "outputs": [
    {
     "name": "stdout",
     "output_type": "stream",
     "text": [
      "6.000100000012054\n"
     ]
    }
   ],
   "source": [
    "print(approx_derivative(square, 3, 0.0001))"
   ]
  },
  {
   "cell_type": "code",
   "execution_count": 46,
   "metadata": {},
   "outputs": [
    {
     "name": "stdout",
     "output_type": "stream",
     "text": [
      "12.000600010022566\n"
     ]
    }
   ],
   "source": [
    "print(approx_derivative(cube, 2, 0.0001))"
   ]
  }
 ],
 "metadata": {
  "kernelspec": {
   "display_name": "Python 3",
   "language": "python",
   "name": "python3"
  },
  "language_info": {
   "codemirror_mode": {
    "name": "ipython",
    "version": 3
   },
   "file_extension": ".py",
   "mimetype": "text/x-python",
   "name": "python",
   "nbconvert_exporter": "python",
   "pygments_lexer": "ipython3",
   "version": "3.6.8"
  },
  "toc": {
   "base_numbering": 1,
   "nav_menu": {},
   "number_sections": true,
   "sideBar": true,
   "skip_h1_title": false,
   "title_cell": "Table of Contents",
   "title_sidebar": "Contents",
   "toc_cell": false,
   "toc_position": {},
   "toc_section_display": true,
   "toc_window_display": false
  }
 },
 "nbformat": 4,
 "nbformat_minor": 2
}
