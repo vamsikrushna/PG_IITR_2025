{
 "cells": [
  {
   "cell_type": "markdown",
   "metadata": {},
   "source": [
    "# Chapter 2. if - else\n",
    "## Huber Distance\n",
    "Topic: Compute Huber Distance Between Two Points in 2D\n",
    "Explanation:\n",
    "The Huber distance is a robust way to measure the difference between two points. It combines the benefits of:\n",
    "\n",
    "Squared distance for small differences (smooth and differentiable near zero).\n",
    "Linear distance for large differences (less sensitive to outliers).\n",
    "For two points in 2D space:\n",
    "\n",
    "Represent each point as (x, y).\n",
    "\n",
    "First, compute the Euclidean distance between the points.\n",
    "\n",
    "Apply the Huber idea:\n",
    "\n",
    "If the distance \n",
    "d≤δ, use a quadratic function of d.\n",
    "If the distance \n",
    "d>δ, use a linear function of d, but make sure the function is continuous at \n",
    "d=δ.\n",
    "Important: At d=δ, both formulas should return the same value. This ensures a smooth transition.\n",
    "\n",
    "Exercise:\n",
    "Write a function compute_huber_distance_2d(p1, p2, delta) that:\n",
    "\n",
    "Inputs:\n",
    "\n",
    "p1: first point as (x1, y1)\n",
    "p2: second point as (x2, y2)\n",
    "delta: threshold where the formula switches from quadratic to linear\n",
    "Returns:\n",
    "\n",
    "The Huber distance between the two points.\n",
    "Steps to guide you:\n",
    "Compute the Euclidean distance:\n",
    "\n",
    "$$ d = \\sqrt{(x_1 - x_2)^2 + (y_1 - y_2)^2} $$\n",
    "\n",
    "If d≤δ, compute:\n",
    "$$ \\text{distance} = 0.5 \\times d^2 $$\n",
    "\n",
    "If d>δ, compute:\n",
    "\n",
    "$$ \\text{distance} = \\delta \\times (d - 0.5 \\times \\delta) $$\n",
    "\n",
    "Hint: This formula ensures continuity because at \n",
    "d=δ, both formulas give:\n",
    "$$ 0.5 \\times \\delta^2 $$\n",
    "\n",
    "Example Usage:  \n",
    "compute_huber_distance_2d((0, 0), (1, 1), 1.5)   # Expected: ~1.0 (quadratic region)  \n",
    "compute_huber_distance_2d((0, 0), (3, 4), 1.5)   # Expected: > linear region  \n",
    "compute_huber_distance_2d((2, 3), (2, 3), 2)     # Expected: 0.0  "
   ]
  },
  {
   "cell_type": "code",
   "execution_count": 49,
   "metadata": {},
   "outputs": [],
   "source": [
    "# $$ d = \\sqrt{(x_1 - x_2)^2 + (y_1 - y_2)^2} $$\n",
    "\n",
    "def compute_huber_distance_2d(p1, p2, delta):\n",
    "    x1 = p1[0]\n",
    "    y1 = p1[1]\n",
    "    \n",
    "    x2 = p2[0]\n",
    "    y2 = p2[1]\n",
    "    \n",
    "    print(\"(x1, y1)=\", (x1, y1))\n",
    "    print(\"(x2, y2)=\", (x2, y2))\n",
    "    print(\"delta=\", delta)\n",
    "    # Step 1: Euclidean distance\n",
    "    distance_2d = ((x1-x2) ** 2 + (y1-y2) ** 2) ** 0.5\n",
    "    print(\"distance_2d=\", distance_2d)\n",
    "    \n",
    "    if distance_2d <= delta:\n",
    "        huber_distance = 0.5 * (distance_2d ** 2)\n",
    "    else:\n",
    "        huber_distance = delta * (distance_2d - 0.5 * delta)\n",
    "     \n",
    "    print(\"huber_distance:\", huber_distance)\n",
    "    return huber_distance"
   ]
  },
  {
   "cell_type": "code",
   "execution_count": 50,
   "metadata": {},
   "outputs": [
    {
     "name": "stdout",
     "output_type": "stream",
     "text": [
      "(x1, y1)= (0, 0)\n",
      "(x2, y2)= (1, 1)\n",
      "delta= 1.5\n",
      "distance_2d= 1.4142135623730951\n",
      "huber_distance: 1.0000000000000002\n"
     ]
    },
    {
     "data": {
      "text/plain": [
       "1.0000000000000002"
      ]
     },
     "execution_count": 50,
     "metadata": {},
     "output_type": "execute_result"
    }
   ],
   "source": [
    "# compute_huber_distance_2d((0, 0), (1, 1), 1.5) # Expected: ~1.0 (quadratic region)\n",
    "compute_huber_distance_2d((0, 0), (1, 1), 1.5)"
   ]
  },
  {
   "cell_type": "code",
   "execution_count": 51,
   "metadata": {},
   "outputs": [
    {
     "name": "stdout",
     "output_type": "stream",
     "text": [
      "(x1, y1)= (0, 0)\n",
      "(x2, y2)= (3, 4)\n",
      "delta= 1.5\n",
      "distance_2d= 5.0\n",
      "huber_distance: 6.375\n"
     ]
    },
    {
     "data": {
      "text/plain": [
       "6.375"
      ]
     },
     "execution_count": 51,
     "metadata": {},
     "output_type": "execute_result"
    }
   ],
   "source": [
    "# compute_huber_distance_2d((0, 0), (3, 4), 1.5) # Expected: > linear region\n",
    "compute_huber_distance_2d((0, 0), (3, 4), 1.5)"
   ]
  },
  {
   "cell_type": "code",
   "execution_count": 52,
   "metadata": {},
   "outputs": [
    {
     "name": "stdout",
     "output_type": "stream",
     "text": [
      "(x1, y1)= (2, 3)\n",
      "(x2, y2)= (2, 3)\n",
      "delta= 2\n",
      "distance_2d= 0.0\n",
      "huber_distance: 0.0\n"
     ]
    },
    {
     "data": {
      "text/plain": [
       "0.0"
      ]
     },
     "execution_count": 52,
     "metadata": {},
     "output_type": "execute_result"
    }
   ],
   "source": [
    "# compute_huber_distance_2d((2, 3), (2, 3), 2) # Expected: 0.0\n",
    "compute_huber_distance_2d((2, 3), (2, 3), 2)"
   ]
  },
  {
   "cell_type": "markdown",
   "metadata": {},
   "source": [
    "# Check if a point P is closer to point A or point B in 2D\n",
    "## Topic: Check if a Point is Closer to A or B in 2D\n",
    "Explanation:\n",
    "In a 2D plane, a point is defined by its coordinates, usually written as (x, y). The distance between two points tells us how far apart they are.\n",
    "\n",
    "For example, if we have:\n",
    "\n",
    "Point A = (x₁, y₁)\n",
    "Point B = (x₂, y₂)\n",
    "Point P = (x, y)\n",
    "We want to find out which point — A or B — is closer to point P.\n",
    "\n",
    "To figure this out, we calculate the distance from P to both A and B and then compare them. You don't need to use square roots — just compare the squared distances (it’s faster and gives the same result for comparison).\n",
    "\n",
    "Exercise:\n",
    "Write a function closer_point(p, a, b) that takes:\n",
    "\n",
    "p: a tuple representing the coordinates of point P\n",
    "a: a tuple representing the coordinates of point A\n",
    "b: a tuple representing the coordinates of point B\n",
    "The function should return:\n",
    "\n",
    "'A' if P is closer to A\n",
    "'B' if P is closer to B\n",
    "'Equal' if the distances are the same\n",
    "Example:  \n",
    "closer_point((1, 2), (0, 0), (5, 5))     # Output: 'A'  \n",
    "closer_point((4, 4), (0, 0), (8, 8))     # Output: 'Equal'    \n",
    "closer_point((7, 3), (2, 3), (10, 3))    # Output: 'B'  "
   ]
  },
  {
   "cell_type": "code",
   "execution_count": 87,
   "metadata": {},
   "outputs": [],
   "source": [
    "def closer_point(p, a, b):\n",
    "    print(\"Tuple p=\",p)\n",
    "    print(\"Tuple a=\",a)\n",
    "    print(\"Tuple b=\",b)\n",
    "    \n",
    "    distance_from_p_to_a = (p[0]-a[0]) ** 2 + (p[1]-a[1]) ** 2\n",
    "    distance_from_p_to_b = (p[0]-b[0]) ** 2 + (p[1]-b[1]) ** 2\n",
    "    \n",
    "    print(\"distance_from_p_to_a=\", distance_from_p_to_a)\n",
    "    print(\"distance_from_p_to_b=\",distance_from_p_to_b)\n",
    "    \n",
    "    if (distance_from_p_to_a < distance_from_p_to_b):\n",
    "        return \"A\"\n",
    "    \n",
    "    if (distance_from_p_to_a > distance_from_p_to_b):\n",
    "        return \"B\"\n",
    "    \n",
    "    return \"Equal\"                                                                "
   ]
  },
  {
   "cell_type": "code",
   "execution_count": 91,
   "metadata": {},
   "outputs": [
    {
     "name": "stdout",
     "output_type": "stream",
     "text": [
      "Tuple p= (1, 2)\n",
      "Tuple a= (0, 0)\n",
      "Tuple b= (5, 5)\n",
      "distance_from_p_to_a= 5\n",
      "distance_from_p_to_b= 25\n"
     ]
    },
    {
     "data": {
      "text/plain": [
       "'A'"
      ]
     },
     "execution_count": 91,
     "metadata": {},
     "output_type": "execute_result"
    }
   ],
   "source": [
    "closer_point((1, 2), (0, 0), (5, 5)) # Output: 'A'  "
   ]
  },
  {
   "cell_type": "code",
   "execution_count": 89,
   "metadata": {},
   "outputs": [
    {
     "name": "stdout",
     "output_type": "stream",
     "text": [
      "Tuple p= (4, 4)\n",
      "Tuple a= (0, 0)\n",
      "Tuple b= (8, 8)\n",
      "distance_from_p_to_a= 32\n",
      "distance_from_p_to_b= 32\n"
     ]
    },
    {
     "data": {
      "text/plain": [
       "'Equal'"
      ]
     },
     "execution_count": 89,
     "metadata": {},
     "output_type": "execute_result"
    }
   ],
   "source": [
    "closer_point((4, 4), (0, 0), (8, 8)) # Output: 'Equal'"
   ]
  },
  {
   "cell_type": "code",
   "execution_count": 90,
   "metadata": {},
   "outputs": [
    {
     "name": "stdout",
     "output_type": "stream",
     "text": [
      "Tuple p= (7, 3)\n",
      "Tuple a= (2, 3)\n",
      "Tuple b= (10, 3)\n",
      "distance_from_p_to_a= 25\n",
      "distance_from_p_to_b= 9\n"
     ]
    },
    {
     "data": {
      "text/plain": [
       "'B'"
      ]
     },
     "execution_count": 90,
     "metadata": {},
     "output_type": "execute_result"
    }
   ],
   "source": [
    "closer_point((7, 3), (2, 3), (10, 3)) # Output: 'B'"
   ]
  },
  {
   "cell_type": "markdown",
   "metadata": {},
   "source": [
    "# Is point on line?\n",
    "## Topic: Is Point P on Line in 1D?\n",
    "Simple Explanation:\n",
    "In one-dimensional space (like a number line), a line segment is just the portion between two points — for example, between point A and point B.\n",
    "\n",
    "We want to check whether a third point P lies on this segment. That means P should be:\n",
    "\n",
    "Greater than or equal to the smaller of A and B, and\n",
    "Less than or equal to the larger of A and B.\n",
    "In simple terms, P is “between” A and B — or equal to one of them.\n",
    "\n",
    "For example:\n",
    "\n",
    "If A = 2, B = 5, and P = 3 → P is between 2 and 5 → ✅  \n",
    "If A = -5, B = -2, and P = -3 → P is between -5 and -2 → ✅  \n",
    "If A = -5, B = -2, and P = -6 → P is outside the range → ❌  \n",
    "If A = 2, B = 5, and P = 2 → P is between 2 and 5 → ✅    \n",
    "\n",
    "It doesn’t matter whether A is smaller than B or the other way around — we always check the range between them.\n",
    "\n",
    "Exercise:\n",
    "Write a function is_point_on_line_1d(a, b, p) that returns True if point p lies on the line segment between a and b, and False otherwise.\n",
    "\n",
    "Example Usage:  \n",
    "is_point_on_line_1d(2, 5, 3)      # Output: True  \n",
    "is_point_on_line_1d(5, 2, 3)      # Output: True  \n",
    "is_point_on_line_1d(2, 5, 6)      # Output: False  \n",
    "is_point_on_line_1d(4, 4, 4)      # Output: True  (A single point segment)  \n",
    "is_point_on_line_1d(4, 4, 5)      # Output: False\n",
    "\n",
    "# With negative numbers:  \n",
    "is_point_on_line_1d(-5, -2, -3)   # Output: True  \n",
    "is_point_on_line_1d(-5, -2, -6)   # Output: False  \n",
    "is_point_on_line_1d(-2, -5, -4)   # Output: True  \n",
    "is_point_on_line_1d(-1, 3, 0)     # Output: True"
   ]
  },
  {
   "cell_type": "code",
   "execution_count": 11,
   "metadata": {},
   "outputs": [],
   "source": [
    "def is_point_on_line_1d(a, b, p):\n",
    "    return (p >= a and p <= b) or (p >= b and p <= a)"
   ]
  },
  {
   "cell_type": "code",
   "execution_count": 13,
   "metadata": {},
   "outputs": [
    {
     "data": {
      "text/plain": [
       "True"
      ]
     },
     "execution_count": 13,
     "metadata": {},
     "output_type": "execute_result"
    }
   ],
   "source": [
    "is_point_on_line_1d(2, 5, 3) # Output: True"
   ]
  },
  {
   "cell_type": "code",
   "execution_count": 15,
   "metadata": {},
   "outputs": [
    {
     "data": {
      "text/plain": [
       "True"
      ]
     },
     "execution_count": 15,
     "metadata": {},
     "output_type": "execute_result"
    }
   ],
   "source": [
    "is_point_on_line_1d(5, 2, 3) # Output: True"
   ]
  },
  {
   "cell_type": "code",
   "execution_count": 17,
   "metadata": {},
   "outputs": [
    {
     "data": {
      "text/plain": [
       "False"
      ]
     },
     "execution_count": 17,
     "metadata": {},
     "output_type": "execute_result"
    }
   ],
   "source": [
    "is_point_on_line_1d(2, 5, 6) # Output: False"
   ]
  },
  {
   "cell_type": "code",
   "execution_count": 19,
   "metadata": {},
   "outputs": [
    {
     "data": {
      "text/plain": [
       "True"
      ]
     },
     "execution_count": 19,
     "metadata": {},
     "output_type": "execute_result"
    }
   ],
   "source": [
    "is_point_on_line_1d(4, 4, 4) # Output: True (A single point segment)"
   ]
  },
  {
   "cell_type": "code",
   "execution_count": 20,
   "metadata": {},
   "outputs": [
    {
     "data": {
      "text/plain": [
       "False"
      ]
     },
     "execution_count": 20,
     "metadata": {},
     "output_type": "execute_result"
    }
   ],
   "source": [
    "is_point_on_line_1d(4, 4, 5) # Output: False"
   ]
  },
  {
   "cell_type": "code",
   "execution_count": 23,
   "metadata": {},
   "outputs": [
    {
     "data": {
      "text/plain": [
       "True"
      ]
     },
     "execution_count": 23,
     "metadata": {},
     "output_type": "execute_result"
    }
   ],
   "source": [
    "is_point_on_line_1d(-5, -2, -3) # Output: True"
   ]
  },
  {
   "cell_type": "code",
   "execution_count": 25,
   "metadata": {},
   "outputs": [
    {
     "data": {
      "text/plain": [
       "False"
      ]
     },
     "execution_count": 25,
     "metadata": {},
     "output_type": "execute_result"
    }
   ],
   "source": [
    "is_point_on_line_1d(-5, -2, -6) # Output: False"
   ]
  },
  {
   "cell_type": "code",
   "execution_count": 27,
   "metadata": {},
   "outputs": [
    {
     "data": {
      "text/plain": [
       "True"
      ]
     },
     "execution_count": 27,
     "metadata": {},
     "output_type": "execute_result"
    }
   ],
   "source": [
    "is_point_on_line_1d(-2, -5, -4) # Output: True"
   ]
  },
  {
   "cell_type": "code",
   "execution_count": 32,
   "metadata": {},
   "outputs": [
    {
     "data": {
      "text/plain": [
       "True"
      ]
     },
     "execution_count": 32,
     "metadata": {},
     "output_type": "execute_result"
    }
   ],
   "source": [
    "is_point_on_line_1d(-1, 3, 0) # Output: True"
   ]
  },
  {
   "cell_type": "markdown",
   "metadata": {},
   "source": [
    "# Are two lines overlapping or touching in 1D\n",
    "## Topic: Are Two Lines Overlapping or Touching in 1D\n",
    "🧠 Simple Explanation:\n",
    "Imagine a number line — just a straight line with numbers going from negative to positive. You can draw a line segment between two points, like from -3 to 2. This segment includes every number between -3 and 2.\n",
    "\n",
    "Now, suppose you have two such line segments. You want to check:\n",
    "\n",
    "Do they overlap (share some part)?  \n",
    "Do they touch (meet at exactly one point)?  \n",
    "Or are they completely separate?  \n",
    "\n",
    "For example:  \n",
    "\n",
    "Line A: from -3 to 1\n",
    "Line B: from 0 to 4 They overlap, because they both include 0 and 1.\n",
    "\n",
    "Or:\n",
    "\n",
    "Line A: from -5 to -2\n",
    "Line B: from -2 to 3 They touch at -2  \n",
    "\n",
    "📘 Exercise:\n",
    "Write a function are_lines_touching_or_overlapping(start1, end1, start2, end2) that returns True if the two 1D line segments are overlapping or touching, and False if they are completely separate.\n",
    "\n",
    "📌 Make sure your function works correctly even if the start is greater than the end — the order shouldn't matter.\n",
    "\n",
    "🔍 Example Usage:  \n",
    "are_lines_touching_or_overlapping(1, 4, 3, 6)        # Output: True   (Overlap from 3 to 4)  \n",
    "are_lines_touching_or_overlapping(1, 3, 3, 5)        # Output: True   (Touch at point 3)  \n",
    "are_lines_touching_or_overlapping(1, 2, 3, 4)        # Output: False  (Completely separate)  \n",
    "\n",
    "**Examples with negative numbers:**  \n",
    "are_lines_touching_or_overlapping(-3, 1, 0, 4)       # Output: True   (Overlap from 0 to 1)  \n",
    "are_lines_touching_or_overlapping(-5, -2, -2, 3)     # Output: True   (Touch at point -2)  \n",
    "are_lines_touching_or_overlapping(-10, -6, -5, -1)   # Output: False  (No touch or overlap)  \n",
    "are_lines_touching_or_overlapping(-2, -7, -4, -3)    # Output: True   (Overlap from -4 to -3, even with reversed inputs)  "
   ]
  },
  {
   "cell_type": "code",
   "execution_count": 9,
   "metadata": {},
   "outputs": [],
   "source": [
    "def are_lines_touching_or_overlapping(start1, end1, start2, end2):\n",
    "    print(\"start1=\",start1, \"end1=\",end1, \"start2=\",start2, \"end2=\",end2)\n",
    "    first_start, first_end = min(start1, end1), max(start1, end1)\n",
    "    second_start, second_end = min(start2, end2), max(start2, end2)\n",
    "    \n",
    "    if (first_start < second_start)\n"
   ]
  },
  {
   "cell_type": "code",
   "execution_count": 10,
   "metadata": {},
   "outputs": [
    {
     "name": "stdout",
     "output_type": "stream",
     "text": [
      "start1= 1 end1= 4 start2= 3 end2= 6\n"
     ]
    }
   ],
   "source": [
    "are_lines_touching_or_overlapping(1, 4, 3, 6)        # Output: True   (Overlap from 3 to 4)"
   ]
  },
  {
   "cell_type": "code",
   "execution_count": null,
   "metadata": {},
   "outputs": [
    {
     "name": "stdout",
     "output_type": "stream",
     "text": [
      "\n",
      "Welcome to Python 3.6's help utility!\n",
      "\n",
      "If this is your first time using Python, you should definitely check out\n",
      "the tutorial on the Internet at https://docs.python.org/3.6/tutorial/.\n",
      "\n",
      "Enter the name of any module, keyword, or topic to get help on writing\n",
      "Python programs and using Python modules.  To quit this help utility and\n",
      "return to the interpreter, just type \"quit\".\n",
      "\n",
      "To get a list of available modules, keywords, symbols, or topics, type\n",
      "\"modules\", \"keywords\", \"symbols\", or \"topics\".  Each module also comes\n",
      "with a one-line summary of what it does; to list the modules whose name\n",
      "or summary contain a given string such as \"spam\", type \"modules spam\".\n",
      "\n"
     ]
    }
   ],
   "source": [
    "help()"
   ]
  }
 ],
 "metadata": {
  "kernelspec": {
   "display_name": "tensorflow2",
   "language": "python",
   "name": "tensorflow2"
  },
  "language_info": {
   "codemirror_mode": {
    "name": "ipython",
    "version": 3
   },
   "file_extension": ".py",
   "mimetype": "text/x-python",
   "name": "python",
   "nbconvert_exporter": "python",
   "pygments_lexer": "ipython3",
   "version": "3.6.8"
  },
  "toc": {
   "base_numbering": 1,
   "nav_menu": {},
   "number_sections": true,
   "sideBar": true,
   "skip_h1_title": false,
   "title_cell": "Table of Contents",
   "title_sidebar": "Contents",
   "toc_cell": false,
   "toc_position": {},
   "toc_section_display": true,
   "toc_window_display": false
  }
 },
 "nbformat": 4,
 "nbformat_minor": 2
}
