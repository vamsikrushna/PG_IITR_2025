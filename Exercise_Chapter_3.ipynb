{
 "cells": [
  {
   "cell_type": "markdown",
   "metadata": {},
   "source": [
    "# Chapter 3. If - Else + Recursion:\n",
    "## Factorial using recursion\n",
    "Topic: Factorial using Recursion\n",
    "\n",
    "Simple Explanation:\n",
    "A factorial of a number is the result of multiplying all whole numbers from that number down to 1.\n",
    "\n",
    "For example:\n",
    "\n",
    "The factorial of 5 is: 5 × 4 × 3 × 2 × 1 = 120\n",
    "The factorial of 3 is: 3 × 2 × 1 = 6\n",
    "The factorial of 1 is: 1\n",
    "The factorial of 0 is defined as 1 (by convention).\n",
    "\n",
    "Now, there's a smart way to compute factorials using something called recursion. In recursion, a function calls itself with a smaller input to eventually solve a problem.\n",
    "\n",
    "Example logic:\n",
    "\n",
    "factorial(5) = 5 × factorial(4)\n",
    "factorial(4) = 4 × factorial(3)\n",
    "...\n",
    "factorial(1) = 1 (this is called the base case)\n",
    "So it keeps breaking the problem into smaller parts until it reaches 1.\n",
    "\n",
    "Exercise:\n",
    "Write a function factorial_recursive(n) that takes one argument n (a non-negative integer) and returns the factorial of that number using recursion.\n",
    "\n",
    "If n is 0, the function should return 1.\n"
   ]
  },
  {
   "cell_type": "code",
   "execution_count": 9,
   "metadata": {},
   "outputs": [],
   "source": [
    "def factorial_recursive(n):\n",
    "    if (n < 0):\n",
    "        print(\"Error with given number, should be non-negative (positive only)\", n)\n",
    "        \n",
    "    if (n == 0):\n",
    "        return 1\n",
    "    else:\n",
    "        return n * factorial_recursive(n-1)"
   ]
  },
  {
   "cell_type": "code",
   "execution_count": 10,
   "metadata": {},
   "outputs": [
    {
     "data": {
      "text/plain": [
       "120"
      ]
     },
     "execution_count": 10,
     "metadata": {},
     "output_type": "execute_result"
    }
   ],
   "source": [
    "factorial_recursive(5)"
   ]
  },
  {
   "cell_type": "code",
   "execution_count": 13,
   "metadata": {},
   "outputs": [
    {
     "data": {
      "text/plain": [
       "24"
      ]
     },
     "execution_count": 13,
     "metadata": {},
     "output_type": "execute_result"
    }
   ],
   "source": [
    "factorial_recursive(4)"
   ]
  },
  {
   "cell_type": "code",
   "execution_count": 16,
   "metadata": {},
   "outputs": [
    {
     "data": {
      "text/plain": [
       "6"
      ]
     },
     "execution_count": 16,
     "metadata": {},
     "output_type": "execute_result"
    }
   ],
   "source": [
    "factorial_recursive(3)"
   ]
  },
  {
   "cell_type": "code",
   "execution_count": 18,
   "metadata": {},
   "outputs": [
    {
     "data": {
      "text/plain": [
       "1"
      ]
     },
     "execution_count": 18,
     "metadata": {},
     "output_type": "execute_result"
    }
   ],
   "source": [
    "factorial_recursive(0)"
   ]
  },
  {
   "cell_type": "code",
   "execution_count": 21,
   "metadata": {},
   "outputs": [
    {
     "data": {
      "text/plain": [
       "1"
      ]
     },
     "execution_count": 21,
     "metadata": {},
     "output_type": "execute_result"
    }
   ],
   "source": [
    "factorial_recursive(1)"
   ]
  },
  {
   "cell_type": "markdown",
   "metadata": {},
   "source": [
    "# Multiplication using recursion\n",
    "## Topic: Multiplication using Recursion\n",
    "Simple Explanation:\n",
    "Multiplication means adding a number to itself a certain number of times. For example, 4 multiplied by 3 means: 4 + 4 + 4 = 12.\n",
    "\n",
    "Recursion means a function that calls itself to solve smaller versions of the same problem. Instead of using the * (multiplication) operator directly, you can use recursion to repeatedly add a number.\n",
    "\n",
    "So, to multiply a and b, you can add a to the result of multiplying a and b-1.\n",
    "\n",
    "Also, consider that:\n",
    "\n",
    "If b is 0, the result is 0 (anything multiplied by 0 is 0).\n",
    "If b is negative, handle it by converting to positive, and then negating the result.\n",
    "Exercise:\n",
    "Write a function multiply_recursive(a, b) that multiplies two integers using recursion (without using the * operator).\n",
    "\n",
    "a: the first number (int)  \n",
    "b: the second number (int) \n",
    "Return the product of a and b.  \n",
    "\n",
    "Example Usage:  \n",
    "multiply_recursive(4, 3)     # Output: 12  \n",
    "multiply_recursive(5, 0)     # Output: 0  \n",
    "multiply_recursive(7, -2)    # Output: -14  \n",
    "multiply_recursive(-3, -3)   # Output: 9  "
   ]
  },
  {
   "cell_type": "code",
   "execution_count": 51,
   "metadata": {},
   "outputs": [],
   "source": [
    "def multiple_recursive_positive(a, b):\n",
    "    if (b == 0):\n",
    "        return 0;\n",
    "    return a + multiple_recursive_positive(a, b - 1)\n",
    "\n",
    "\n",
    "def multiply_recursive(a, b):\n",
    "    # to handle negative case for b\n",
    "    if (b < 0):\n",
    "        return -multiple_recursive_positive(a, -b)\n",
    "    return multiple_recursive_positive(a, b)\n",
    "        "
   ]
  },
  {
   "cell_type": "code",
   "execution_count": 52,
   "metadata": {},
   "outputs": [
    {
     "data": {
      "text/plain": [
       "12"
      ]
     },
     "execution_count": 52,
     "metadata": {},
     "output_type": "execute_result"
    }
   ],
   "source": [
    "multiply_recursive(4, 3)"
   ]
  },
  {
   "cell_type": "code",
   "execution_count": 53,
   "metadata": {},
   "outputs": [
    {
     "data": {
      "text/plain": [
       "0"
      ]
     },
     "execution_count": 53,
     "metadata": {},
     "output_type": "execute_result"
    }
   ],
   "source": [
    "multiply_recursive(5, 0)"
   ]
  },
  {
   "cell_type": "code",
   "execution_count": 54,
   "metadata": {},
   "outputs": [
    {
     "data": {
      "text/plain": [
       "-14"
      ]
     },
     "execution_count": 54,
     "metadata": {},
     "output_type": "execute_result"
    }
   ],
   "source": [
    "multiply_recursive(7, -2)"
   ]
  },
  {
   "cell_type": "code",
   "execution_count": 55,
   "metadata": {},
   "outputs": [
    {
     "data": {
      "text/plain": [
       "9"
      ]
     },
     "execution_count": 55,
     "metadata": {},
     "output_type": "execute_result"
    }
   ],
   "source": [
    "multiply_recursive(-3, -3) "
   ]
  },
  {
   "cell_type": "code",
   "execution_count": null,
   "metadata": {},
   "outputs": [],
   "source": []
  }
 ],
 "metadata": {
  "kernelspec": {
   "display_name": "Python 3",
   "language": "python",
   "name": "python3"
  },
  "language_info": {
   "codemirror_mode": {
    "name": "ipython",
    "version": 3
   },
   "file_extension": ".py",
   "mimetype": "text/x-python",
   "name": "python",
   "nbconvert_exporter": "python",
   "pygments_lexer": "ipython3",
   "version": "3.6.8"
  },
  "toc": {
   "base_numbering": 1,
   "nav_menu": {},
   "number_sections": true,
   "sideBar": true,
   "skip_h1_title": false,
   "title_cell": "Table of Contents",
   "title_sidebar": "Contents",
   "toc_cell": false,
   "toc_position": {},
   "toc_section_display": true,
   "toc_window_display": false
  }
 },
 "nbformat": 4,
 "nbformat_minor": 2
}
